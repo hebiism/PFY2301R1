{
 "cells": [
  {
   "cell_type": "code",
   "execution_count": 6,
   "id": "a3e15d12",
   "metadata": {},
   "outputs": [
    {
     "name": "stderr",
     "output_type": "stream",
     "text": [
      "Exception in Tkinter callback\n",
      "Traceback (most recent call last):\n",
      "  File \"D:\\Hg\\Data_Analyst_course\\PYF2301\\PFY2301_R1\\lib\\tkinter\\__init__.py\", line 1892, in __call__\n",
      "    return self.func(*args)\n",
      "  File \"C:\\Users\\Administrator\\AppData\\Local\\Temp\\ipykernel_10064\\1968196538.py\", line 24, in weight_conversion_to_gram\n",
      "    convert_to_gram_value.set(float(weight_input_in_kg_entry.get())*1000)\n",
      "ValueError: could not convert string to float: ''\n"
     ]
    }
   ],
   "source": [
    "from tkinter import *\n",
    "\n",
    "window = Tk()\n",
    "window.title(\"WEIGHT CONVERSION CALCULATOR\")\n",
    "window.geometry(\"1350x750\")\n",
    "\n",
    "def weight_conversion_to_gram():\n",
    "    convert_to_gram_value = StringVar()\n",
    "    convert_to_gram_value.set(float(weight_input_in_kg_entry.get())*1000)\n",
    "    convert_to_gram_value_entry = Entry(window,bd=7,font=(\"Helvetica\",15),textvariable=convert_to_gram_value)\n",
    "    convert_to_gram_value_entry.grid(row=1,column=1)\n",
    "    \n",
    "\n",
    "weight_input_in_kg_lbl = Label(window, text=\"Weight in kg (kg)\",bd=7,font=(\"Helvetica\",15),bg=\"lightgrey\")\n",
    "weight_input_in_kg_lbl.grid(row=0,column=0)\n",
    "weight_input_in_kg_entry = Entry(window,bd=7,font=(\"Helvetica\",15))\n",
    "weight_input_in_kg_entry.grid(row=0,column=1)\n",
    "convert_to_gram_value_btn = Button(window,text=\"Convert to gram\",bd=7,font=(\"Helvetica\",15,),\n",
    "                                   bg=\"lightgrey\",command=weight_conversion_to_gram)\n",
    "convert_to_gram_value_btn.grid(row=1,column=0)\n",
    "\n",
    "\n",
    "window.mainloop()\n"
   ]
  }
 ],
 "metadata": {
  "kernelspec": {
   "display_name": "Python 3 (ipykernel)",
   "language": "python",
   "name": "python3"
  },
  "language_info": {
   "codemirror_mode": {
    "name": "ipython",
    "version": 3
   },
   "file_extension": ".py",
   "mimetype": "text/x-python",
   "name": "python",
   "nbconvert_exporter": "python",
   "pygments_lexer": "ipython3",
   "version": "3.9.13"
  }
 },
 "nbformat": 4,
 "nbformat_minor": 5
}
