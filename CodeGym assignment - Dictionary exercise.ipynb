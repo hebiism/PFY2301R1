{
 "cells": [
  {
   "cell_type": "markdown",
   "id": "32f95315",
   "metadata": {},
   "source": [
    "### learn.codegym exercies"
   ]
  },
  {
   "cell_type": "code",
   "execution_count": 2,
   "id": "dca61292",
   "metadata": {
    "scrolled": true
   },
   "outputs": [
    {
     "name": "stdout",
     "output_type": "stream",
     "text": [
      "Please enter employee ID:\n",
      "1000\n",
      "name : Alex\n",
      "doj : 01-10-89\n",
      "dept : ACCOUNTS\n"
     ]
    }
   ],
   "source": [
    "# Viết chương trình cho phép người dùng tìm dữ liệu của nhân viên bằng cách nhập id của nhân viên đó (Database sẽ được cho sẵn).\n",
    "dept_db = {\n",
    "      101 : 'HRD',\n",
    "      102 : 'FINANCE',\n",
    "      103 : 'ACCOUNTS',\n",
    "      104 : 'SALES',\n",
    "      105 : 'ENGINEERING',\n",
    "      106 : 'SUPPORT'\n",
    "     }\n",
    " \n",
    "\n",
    "employee_db = { \n",
    "1000: dict(name=\"Alex\",   doj='01-10-89',dept=103),\n",
    "1001: dict(name=\"Mary\",   doj='01-11-88', dept=101),\n",
    "1002: dict(name=\"John\",   doj='01-10-87', dept=104),\n",
    "1003: dict(name=\"David\",  doj='01-06-89', dept=105),\n",
    "1004: dict(name=\"Anne\",   doj='01-01-86', dept=106),\n",
    "1005: dict(name=\"Samson\", doj='01-02-89', dept=101)\n",
    "}\n",
    "\n",
    "def get_emp_info(emp_id):\n",
    "    if emp_id in employee_db:\n",
    "        return employee_db[emp_id]\n",
    "    else:\n",
    "        print(emp_id, \"doesn't exist\")\n",
    "        return\n",
    "    \n",
    "def get_dept_info(dept_id):\n",
    "    if dept_id in dept_db:\n",
    "        return dept_db[dept_id]\n",
    "    else:\n",
    "        print(dept_id, \"doesn't exist\")\n",
    "        return\n",
    "    \n",
    "def display_emp_data(emp_data):\n",
    "    for key, value in emp_data.items():\n",
    "        if key==\"dept\":\n",
    "            print(key, \":\", get_dept_info(value))\n",
    "        else:\n",
    "            print(key, \":\", value)\n",
    "\n",
    "emp_id = int(input(\"Please enter employee ID:\\n\"))\n",
    "emp_data = get_emp_info(emp_id)\n",
    "if emp_data:\n",
    "    display_emp_data(emp_data)"
   ]
  },
  {
   "cell_type": "markdown",
   "id": "ddc6e854",
   "metadata": {},
   "source": [
    "### Bài tập từ điển \n",
    "### Viết chương trình cho phép người dùng tra cứu các từ tiếng Anh sang tiếng Việt bằng cách nhập từ cần tra cứu. Danh sách các từ được lưu trữ sẵn trong một Dictionary."
   ]
  },
  {
   "cell_type": "code",
   "execution_count": 9,
   "id": "872ebd54",
   "metadata": {},
   "outputs": [
    {
     "name": "stdout",
     "output_type": "stream",
     "text": [
      "What word are you looking for?\n",
      "brother\n",
      "brother doesn't exist\n"
     ]
    }
   ],
   "source": [
    "dict_data ={\"papa\":\"father\", \"mama\":\"mother\", \"birthday\":\"the day one is born\"}\n",
    "\n",
    "def find_and_translate(dict_data, input_word):\n",
    "    for word in dict_data:\n",
    "        if word == input_word:\n",
    "            print(input_word, \":\", dict_data[word])\n",
    "            break\n",
    "        else:\n",
    "            print(input_word, \"doesn't exist\")\n",
    "            break\n",
    "input_word = input(\"What word are you looking for?\\n\")\n",
    "if input_word:\n",
    "    find_and_translate(dict_data, input_word)\n",
    "else:\n",
    "    print(\"There is no such word in our dictionary\")\n"
   ]
  }
 ],
 "metadata": {
  "kernelspec": {
   "display_name": "Python 3 (ipykernel)",
   "language": "python",
   "name": "python3"
  },
  "language_info": {
   "codemirror_mode": {
    "name": "ipython",
    "version": 3
   },
   "file_extension": ".py",
   "mimetype": "text/x-python",
   "name": "python",
   "nbconvert_exporter": "python",
   "pygments_lexer": "ipython3",
   "version": "3.9.13"
  }
 },
 "nbformat": 4,
 "nbformat_minor": 5
}
