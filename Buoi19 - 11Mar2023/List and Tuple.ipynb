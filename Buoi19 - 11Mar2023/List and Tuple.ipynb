{
 "cells": [
  {
   "cell_type": "markdown",
   "metadata": {},
   "source": [
    "## Review: type()"
   ]
  },
  {
   "cell_type": "code",
   "execution_count": null,
   "metadata": {},
   "outputs": [],
   "source": [
    "# Python có 4 kiểu dữ liệu cơ bản"
   ]
  },
  {
   "cell_type": "markdown",
   "metadata": {},
   "source": [
    "## list là gì?"
   ]
  },
  {
   "cell_type": "code",
   "execution_count": null,
   "metadata": {},
   "outputs": [],
   "source": [
    "# Ví dụ\n",
    "L = []\n",
    "### L là list rỗng"
   ]
  },
  {
   "cell_type": "code",
   "execution_count": 2,
   "metadata": {},
   "outputs": [
    {
     "name": "stdout",
     "output_type": "stream",
     "text": [
      "[2, 'hello', 15]\n"
     ]
    }
   ],
   "source": [
    "L = [2,\"hello\", 15]\n",
    "print(L)"
   ]
  },
  {
   "cell_type": "code",
   "execution_count": 3,
   "metadata": {},
   "outputs": [
    {
     "name": "stdout",
     "output_type": "stream",
     "text": [
      "[]\n",
      "[3, 'string']\n"
     ]
    }
   ],
   "source": [
    "# Sử dụng list\n",
    "L=[]\n",
    "print(L)\n",
    "L.append(3)\n",
    "L.append(\"string\")\n",
    "print(L)"
   ]
  },
  {
   "cell_type": "code",
   "execution_count": 2,
   "metadata": {
    "scrolled": false
   },
   "outputs": [
    {
     "name": "stdout",
     "output_type": "stream",
     "text": [
      "Nhập vào n:\n",
      "2\n",
      "Nhập vào phần tử thứ 13\n",
      "Nhập vào phần tử thứ 24\n",
      "[3, 4]\n"
     ]
    }
   ],
   "source": [
    "### Sử dụng list\n",
    "n=int(input(\"Nhập vào n:\\n\"))\n",
    "### nhập n số tiếp theo và lưu n số đó vào list\n",
    "L=[]\n",
    "for i in range(1,n+1):\n",
    "    a=int(input(\"Nhập vào phần tử thứ \"+str(i)))\n",
    "    L.append(a)\n",
    "print(L)"
   ]
  },
  {
   "cell_type": "code",
   "execution_count": 9,
   "metadata": {
    "scrolled": true
   },
   "outputs": [
    {
     "name": "stdout",
     "output_type": "stream",
     "text": [
      "10\n",
      "15\n",
      "17\n",
      "18\n"
     ]
    }
   ],
   "source": [
    "L=[10,15,17,18]\n",
    "for i in range(len(L)):\n",
    "    print(L[i])"
   ]
  },
  {
   "cell_type": "code",
   "execution_count": 15,
   "metadata": {},
   "outputs": [
    {
     "name": "stdout",
     "output_type": "stream",
     "text": [
      "3\n",
      "[15, 13, 15]\n"
     ]
    }
   ],
   "source": [
    "L = [15,7,10,2,13,4,10,15]\n",
    "### đếm số lượng phần tử lớn hơn 10\n",
    "count = 0\n",
    "L1=[]\n",
    "for i in range(len(L)):\n",
    "    if L[i]>10:\n",
    "        count+=1\n",
    "        L1.append(L[i])\n",
    "print(count)\n",
    "print(L1)"
   ]
  },
  {
   "cell_type": "markdown",
   "metadata": {},
   "source": [
    "### Thực hành: Viết chương trình tạo ra một list các string khác nhau và đếm tổng số lượng string dài hơn 3 kí tự"
   ]
  },
  {
   "cell_type": "code",
   "execution_count": 16,
   "metadata": {
    "scrolled": false
   },
   "outputs": [
    {
     "name": "stdout",
     "output_type": "stream",
     "text": [
      "2\n",
      "['xin chào', 'hello']\n"
     ]
    }
   ],
   "source": [
    "L=[\"xin chào\", \"a\", \"bcd\",\"hello\",\"hi\"]\n",
    "count=0\n",
    "L1=[]\n",
    "for i in range(len(L)):\n",
    "    if len(L[i])>3:\n",
    "        count+=1\n",
    "        L1.append(L[i])\n",
    "print(count)\n",
    "print(L1)"
   ]
  },
  {
   "cell_type": "code",
   "execution_count": 2,
   "metadata": {},
   "outputs": [
    {
     "name": "stdout",
     "output_type": "stream",
     "text": [
      "input something funny\n",
      "beauty n\n",
      "L does not contain beauty n\n"
     ]
    }
   ],
   "source": [
    "L=[\"xin chào\", \"a\", \"bcd\",\"hello\",\"hi\"]\n",
    "\n",
    "### nhập vào 1 chuỗi, kiểm tra xem chuỗi đó có trong L ko\n",
    "string = input(\"input something funny\\n\")\n",
    "if string in L:\n",
    "    print(f\"L contains {string}\")\n",
    "else:\n",
    "    print(f\"L does not contain {string}\")\n"
   ]
  },
  {
   "cell_type": "markdown",
   "metadata": {},
   "source": [
    "### Thực hành 2: Viết chương trình nhận vào 2 list và trả về True nếu 2 list có ít nhất 1 phần tử chung, ngược lại trả về False"
   ]
  },
  {
   "cell_type": "code",
   "execution_count": 5,
   "metadata": {},
   "outputs": [
    {
     "name": "stdout",
     "output_type": "stream",
     "text": [
      "True\n",
      "False\n"
     ]
    }
   ],
   "source": [
    "def check_list(L1,L2):\n",
    "    for i in L1:\n",
    "        if i in L2:\n",
    "            return True ###Return sẽ dừng vòng lặp ngay lập tức\n",
    "    return False\n",
    "\n",
    "print(check_list([2,3,4],[2,5,7])) ### trả về True\n",
    "print(check_list([2,3,4],[9,5,7])) ### trả về False"
   ]
  },
  {
   "cell_type": "markdown",
   "metadata": {},
   "source": [
    "## Các thao tác cơ bản với list"
   ]
  },
  {
   "cell_type": "markdown",
   "metadata": {},
   "source": [
    "### Kiểm tra độ dài list"
   ]
  },
  {
   "cell_type": "code",
   "execution_count": null,
   "metadata": {},
   "outputs": [],
   "source": []
  },
  {
   "cell_type": "markdown",
   "metadata": {},
   "source": [
    "### Truy cập phần tử trên list"
   ]
  },
  {
   "cell_type": "code",
   "execution_count": null,
   "metadata": {},
   "outputs": [],
   "source": []
  },
  {
   "cell_type": "markdown",
   "metadata": {},
   "source": [
    "### Thực hành: Tạo một list 10 số tự nhiên và in ra các phần tử trong list"
   ]
  },
  {
   "cell_type": "code",
   "execution_count": null,
   "metadata": {},
   "outputs": [],
   "source": [
    "numbers = []"
   ]
  },
  {
   "cell_type": "markdown",
   "metadata": {},
   "source": [
    "### Thực hành 2: Tạo ra một list con chưa 2 phần tử cuối cùng từ list đã tạo ở trên"
   ]
  },
  {
   "cell_type": "code",
   "execution_count": null,
   "metadata": {},
   "outputs": [],
   "source": []
  },
  {
   "cell_type": "markdown",
   "metadata": {},
   "source": [
    "### Cộng list"
   ]
  },
  {
   "cell_type": "code",
   "execution_count": 1,
   "metadata": {},
   "outputs": [
    {
     "name": "stdout",
     "output_type": "stream",
     "text": [
      "[1, 2, 3, 4, 5, 6]\n",
      "[1, 2, 3, 1, 2, 3, 1, 2, 3]\n"
     ]
    }
   ],
   "source": [
    "a = [1,2,3]\n",
    "b = [4,5,6]\n",
    "c = a+b\n",
    "print(c)\n",
    "\n",
    "d=a*3\n",
    "print(d)"
   ]
  },
  {
   "cell_type": "markdown",
   "metadata": {},
   "source": [
    "### Thực hành: Thêm học sinh vào lớp"
   ]
  },
  {
   "cell_type": "code",
   "execution_count": 5,
   "metadata": {},
   "outputs": [
    {
     "name": "stdout",
     "output_type": "stream",
     "text": [
      "['Andy', 'Bella', 'Cindy', 'Daniel', 'Emma', 'Ferb']\n",
      "['Andy', 'Bella', 'Cindy', 'Daniel', 'Emma', 'Ferb', 'Gina']\n",
      "['Andy', 'Bella', 'Cindy', 'Daniel', 'Emma', 'Ferb', 'Gina', 'Emma', 'Ferb']\n",
      "['Andy', 'Bella', 'Cindy', 'Daniel', 'Emma', 'Ferb', 'Gina', 'Emma']\n",
      "['Andy', 'Bella', 'Cindy', 'Daniel', 'Emma', 'Ferb']\n"
     ]
    }
   ],
   "source": [
    "# Tạo một list danh_sach_lop chứa tên của 4 học sinh khác nhau và một list hoc_sinh_moi chứa tên của\n",
    "# 2 học sinh mới vào lớp. Hãy thêm tên các học sinh mới vào list danh_sach_lop bằng cách cộng list.\n",
    "danh_sach_lop = ['Andy', 'Bella', 'Cindy', 'Daniel']\n",
    "hoc_sinh_moi = ['Emma', 'Ferb']\n",
    "\n",
    "danh_sach_lop += hoc_sinh_moi\n",
    "print(danh_sach_lop)\n",
    "\n",
    "danh_sach_lop.append(\"Gina\")\n",
    "print(danh_sach_lop)\n",
    "\n",
    "danh_sach_lop.extend(hoc_sinh_moi)\n",
    "print(danh_sach_lop)\n",
    "\n",
    "danh_sach_lop.pop()\n",
    "print(danh_sach_lop)\n",
    "\n",
    "danh_sach_lop = danh_sach_lop[:-2]\n",
    "print(danh_sach_lop)"
   ]
  },
  {
   "cell_type": "markdown",
   "metadata": {},
   "source": [
    "### Thực hành: Thêm học sinh vào lớp"
   ]
  },
  {
   "cell_type": "code",
   "execution_count": null,
   "metadata": {},
   "outputs": [],
   "source": []
  },
  {
   "cell_type": "markdown",
   "metadata": {},
   "source": [
    "### Kiểm tra phần tử tồn tại trong list"
   ]
  },
  {
   "cell_type": "code",
   "execution_count": null,
   "metadata": {},
   "outputs": [],
   "source": []
  },
  {
   "cell_type": "markdown",
   "metadata": {},
   "source": [
    "### Xóa phần tử khỏi list"
   ]
  },
  {
   "cell_type": "code",
   "execution_count": null,
   "metadata": {},
   "outputs": [],
   "source": []
  },
  {
   "cell_type": "markdown",
   "metadata": {},
   "source": [
    "### Sắp xếp list"
   ]
  },
  {
   "cell_type": "code",
   "execution_count": null,
   "metadata": {},
   "outputs": [],
   "source": []
  },
  {
   "cell_type": "markdown",
   "metadata": {},
   "source": [
    "### Làm rỗng list"
   ]
  },
  {
   "cell_type": "code",
   "execution_count": null,
   "metadata": {},
   "outputs": [],
   "source": []
  },
  {
   "cell_type": "markdown",
   "metadata": {},
   "source": [
    "### Copy list"
   ]
  },
  {
   "cell_type": "code",
   "execution_count": null,
   "metadata": {},
   "outputs": [],
   "source": []
  },
  {
   "cell_type": "markdown",
   "metadata": {},
   "source": [
    "## tuple"
   ]
  },
  {
   "cell_type": "code",
   "execution_count": 7,
   "metadata": {},
   "outputs": [
    {
     "name": "stdout",
     "output_type": "stream",
     "text": [
      "Python\n",
      "3-5-7\n",
      "2\n"
     ]
    }
   ],
   "source": [
    "info = (\"Python\", \"3-5-7\", 2)\n",
    "course_name, day, duration = info\n",
    "print(course_name)\n",
    "print(day)\n",
    "print(duration)"
   ]
  }
 ],
 "metadata": {
  "kernelspec": {
   "display_name": "Python 3 (ipykernel)",
   "language": "python",
   "name": "python3"
  },
  "language_info": {
   "codemirror_mode": {
    "name": "ipython",
    "version": 3
   },
   "file_extension": ".py",
   "mimetype": "text/x-python",
   "name": "python",
   "nbconvert_exporter": "python",
   "pygments_lexer": "ipython3",
   "version": "3.9.13"
  }
 },
 "nbformat": 4,
 "nbformat_minor": 4
}
